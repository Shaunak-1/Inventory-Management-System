{
 "cells": [
  {
   "cell_type": "markdown",
   "id": "a344fed2",
   "metadata": {},
   "source": [
    "# Product details\n",
    "1. product id\n",
    "2. name of product\n",
    "3. price of product\n",
    "4. quantity"
   ]
  },
  {
   "cell_type": "code",
   "execution_count": 1,
   "id": "b95a7cc3",
   "metadata": {},
   "outputs": [
    {
     "name": "stdout",
     "output_type": "stream",
     "text": [
      "1,7 star,50,80\n",
      "2,Hoodie,300,98\n",
      "3,dumbbells,200,48\n",
      "4,perk,10,47\n"
     ]
    }
   ],
   "source": [
    "file=open(\"inventory.txt\",\"r\")\n",
    "file_data=file.read()\n",
    "print(file_data)\n",
    "file.close()"
   ]
  },
  {
   "cell_type": "code",
   "execution_count": 2,
   "id": "2f5d63eb",
   "metadata": {},
   "outputs": [
    {
     "data": {
      "text/plain": [
       "['1,7 star,50,80', '2,Hoodie,300,98', '3,dumbbells,200,48', '4,perk,10,47']"
      ]
     },
     "execution_count": 2,
     "metadata": {},
     "output_type": "execute_result"
    }
   ],
   "source": [
    "products=file_data.split(\"\\n\")\n",
    "\n",
    "products"
   ]
  },
  {
   "cell_type": "code",
   "execution_count": 3,
   "id": "a4ca66f6",
   "metadata": {},
   "outputs": [
    {
     "name": "stdout",
     "output_type": "stream",
     "text": [
      "['1', '7 star', '50', '80']\n",
      "['2', 'Hoodie', '300', '98']\n",
      "['3', 'dumbbells', '200', '48']\n",
      "['4', 'perk', '10', '47']\n"
     ]
    }
   ],
   "source": [
    "for i in products:\n",
    "    print(i.split(\",\"))\n",
    "    \n",
    "  "
   ]
  },
  {
   "cell_type": "code",
   "execution_count": 4,
   "id": "9088aed8",
   "metadata": {},
   "outputs": [
    {
     "name": "stdout",
     "output_type": "stream",
     "text": [
      "enter product id2\n",
      "enter quantity3\n",
      "enter your names\n",
      "enter your email4\n",
      "enter mobile number4\n",
      "[['1', '7 star', '50', '80']]\n",
      "-----------------------------------------\n",
      "Product Name    : Hoodie\n",
      "Quantity ordered: 3\n",
      "Price of product: 300\n",
      "Billing amount  : 900\n",
      "-----------------------------------------\n",
      "[['1', '7 star', '50', '80'], ['2', 'Hoodie', '300', '95']]\n",
      "[['1', '7 star', '50', '80'], ['2', 'Hoodie', '300', '95'], ['3', 'dumbbells', '200', '48']]\n",
      "[['1', '7 star', '50', '80'], ['2', 'Hoodie', '300', '95'], ['3', 'dumbbells', '200', '48'], ['4', 'perk', '10', '47']]\n"
     ]
    }
   ],
   "source": [
    "ui_prod_id=input(\"enter product id\")\n",
    "ui_prod_qn=input(\"enter quantity\")\n",
    "name=input(\"enter your name\")\n",
    "email=input(\"enter your email\")\n",
    "mobile_number=input(\"enter mobile number\")\n",
    "credentials=name+\",\"+email+\",\"+mobile_number+\"\\n\"\n",
    "rd=open(\"Sales Record.txt\",'a')\n",
    "rd.write(credentials)\n",
    "rd.close()\n",
    "updated_product_list=[]\n",
    "\n",
    "for i in products:\n",
    "    \n",
    "    print_details=i.split(\",\")\n",
    "    if(i.split(\",\")[0]==ui_prod_id):\n",
    "        print(\"-----------------------------------------\")\n",
    "        print(\"Product Name    :\",print_details[1])\n",
    "        print(\"Quantity ordered:\",ui_prod_qn)\n",
    "        print(\"Price of product:\",print_details[2])\n",
    "        print(\"Billing amount  :\",int(print_details[2])*int(ui_prod_qn))\n",
    "        print(\"-----------------------------------------\")\n",
    "        a=int(print_details[3])-int(ui_prod_qn)\n",
    "        print_details[3]=str(a)\n",
    "        \n",
    "    updated_product_list.append(print_details)\n",
    "    print(updated_product_list)\n",
    "\n",
    "list=[]\n",
    "for i in updated_product_list:\n",
    "    l=i[0]+\",\"+i[1]+\",\"+i[2]+\",\"+i[3]+\"\\n\"\n",
    "    list.append(l)\n",
    "    \n",
    "list[-1]=list[-1][:-1]\n",
    "\n",
    "fd=open(\"inventory.txt\",'w')\n",
    "for i in list:\n",
    "        fd.write(i)\n",
    "        \n",
    "        \n",
    "fd.close()       \n",
    "        "
   ]
  },
  {
   "cell_type": "code",
   "execution_count": null,
   "id": "7c4ae125",
   "metadata": {},
   "outputs": [],
   "source": []
  }
 ],
 "metadata": {
  "kernelspec": {
   "display_name": "Python 3 (ipykernel)",
   "language": "python",
   "name": "python3"
  },
  "language_info": {
   "codemirror_mode": {
    "name": "ipython",
    "version": 3
   },
   "file_extension": ".py",
   "mimetype": "text/x-python",
   "name": "python",
   "nbconvert_exporter": "python",
   "pygments_lexer": "ipython3",
   "version": "3.11.5"
  }
 },
 "nbformat": 4,
 "nbformat_minor": 5
}
